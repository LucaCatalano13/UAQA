{
 "cells": [
  {
   "cell_type": "code",
   "execution_count": 3,
   "metadata": {},
   "outputs": [],
   "source": [
    "import torch\n",
    "from torch.utils.data import DataLoader, TensorDataset\n",
    "from tqdm import tqdm\n",
    "\n",
    "from datasets.Era5 import Era5\n",
    "from datasets.Dem import Dem\n",
    "from datasets.Sentinel3 import Sentinel3\n",
    "from datasets.Sentinel5 import Sentinel5\n",
    "from datasets.LandCover import LandCover\n",
    "from datasets.CollectionDataset import CollectionDataset\n",
    "from utils import process_images, get_day_of_year_and_day_of_week\n",
    "\n",
    "from presto.presto import Encoder, Decoder, Presto\n",
    "from PixelTimeseries import PixelTimeSeries\n",
    "from PrestoMaskedLanguageModel import make_mask\n",
    "\n",
    "MASK_STRATEGIES = (\n",
    "    \"group_bands\",\n",
    "    \"random_timesteps\",\n",
    "    \"chunk_timesteps\",\n",
    "    \"random_combinations\",\n",
    ")\n",
    "\n",
    "dataset = PixelTimeSeries(num_timesteps=5, input_data_path = 'data_small_file.pt')\n",
    "\n",
    "train_dataloader = DataLoader(\n",
    "        dataset,\n",
    "        batch_size=64,\n",
    "        shuffle=False,\n",
    "    )\n",
    "last_x = None\n",
    "last_hard_mask = None\n",
    "for x, hard_mask, latlons, day_of_year, day_of_week in train_dataloader:\n",
    "    soft_mask = make_mask(x, hard_mask, MASK_STRATEGIES[2], 0.1)\n",
    "    last_x = x\n",
    "    last_hard_mask = hard_mask\n"
   ]
  },
  {
   "cell_type": "code",
   "execution_count": null,
   "metadata": {},
   "outputs": [],
   "source": [
    "import numpy as np\n",
    "for i in range(64):\n",
    "    print( np.logical_and(soft_mask[i], last_hard_mask[i]).sum())\n",
    "    size = last_x[i].shape[0] * last_x[i].shape[1]\n",
    "    ratio = soft_mask[i].sum() / ( size - hard_mask[i].sum())\n",
    "    print( ratio )\n",
    "    print( soft_mask[i].sum() , soft_mask[i].shape , last_x[i].shape , last_hard_mask[i].sum() ,\"\\n\")"
   ]
  },
  {
   "cell_type": "code",
   "execution_count": null,
   "metadata": {},
   "outputs": [],
   "source": [
    "from datasets.CollectionDataset import BANDS, BANDS_GROUPS_IDX, BAND_EXPANSION\n",
    "BAND_EXPANSION\n",
    "BANDS_GROUPS_IDX"
   ]
  },
  {
   "cell_type": "code",
   "execution_count": null,
   "metadata": {},
   "outputs": [],
   "source": []
  }
 ],
 "metadata": {
  "kernelspec": {
   "display_name": "Python 3",
   "language": "python",
   "name": "python3"
  },
  "language_info": {
   "codemirror_mode": {
    "name": "ipython",
    "version": 3
   },
   "file_extension": ".py",
   "mimetype": "text/x-python",
   "name": "python",
   "nbconvert_exporter": "python",
   "pygments_lexer": "ipython3",
   "version": "3.9.6"
  }
 },
 "nbformat": 4,
 "nbformat_minor": 2
}
