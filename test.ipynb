{
 "cells": [
  {
   "cell_type": "code",
   "execution_count": 248,
   "metadata": {},
   "outputs": [],
   "source": [
    "import pandas as pd\n",
    "import math\n",
    "import numpy as np\n",
    "\n",
    "STATIONS_BANDS = [\"SO2\",\"C6H6\",\"NO2\",\"O3\",\"PM10\",\"PM25\",\"CO\"]\n",
    "R = 6373.0\n",
    "\n",
    "def create_data(data_path: str, legend_path: str):\n",
    "    data = {}\n",
    "    data_path_df = pd.read_csv(data_path)\n",
    "    legend_path_df = pd.read_csv(legend_path, sep=\";\")\n",
    "    legend_path_df['Location'] = legend_path_df['Location'].str.split(', ')\n",
    "    legend_dict = dict(zip(legend_path_df['id_amat'], legend_path_df['Location']))\n",
    "    \n",
    "    for _, row in data_path_df.iterrows():\n",
    "        date = row['date']\n",
    "        if date not in data:\n",
    "            data[date] = {}\n",
    "        latlon = legend_dict.get(row['station_id'])\n",
    "        if latlon:\n",
    "            latlon = latlon[1][:-1] + ' ' + latlon[0][1:]\n",
    "            data[date][latlon] = dict(row[4:])\n",
    "            \n",
    "    return data\n",
    "    \n",
    "def get_closest_dist_per_band(data, date, latlon):\n",
    "    \"\"\"\n",
    "    Given latlon of a pixel find for each pollutant the distance of the closest GoldenStation\n",
    "    NPArray aligned with STATION_BANDS\n",
    "    \"\"\"\n",
    "    data_single_date = data[date]\n",
    "    distances = {}\n",
    "    for i, band in enumerate(STATIONS_BANDS):\n",
    "        for j, latlon_data in enumerate(list(data_single_date.keys())):\n",
    "            latlon_data_list = latlon_data.split()\n",
    "            if not np.isnan(data_single_date[latlon_data][band]):\n",
    "                lat1 = math.radians(latlon[0])\n",
    "                lat2 = math.radians(float(latlon_data_list[0]))\n",
    "                lon1 = math.radians(latlon[1])\n",
    "                lon2 = math.radians(float(latlon_data_list[1]))\n",
    "                diff_lon = lon2 - lon1\n",
    "                diff_lat = lat2 -lat1 \n",
    "                a = (math.sin(diff_lat/2))**2 + math.cos(lon1) * math.cos(float(lat2)) * (math.sin(diff_lon/2))**2\n",
    "                c = 2 * math.atan2(math.sqrt(a), math.sqrt(1-a))\n",
    "                dist = R * c\n",
    "                if band in distances.keys():\n",
    "                    if dist < distances[band]:\n",
    "                        distances[band] = dist\n",
    "                else:\n",
    "                    distances[band] = dist\n",
    "    return list(distances.values())"
   ]
  },
  {
   "cell_type": "code",
   "execution_count": 225,
   "metadata": {},
   "outputs": [],
   "source": [
    "data = create_data(\"/Users/luca/Downloads/weak_labels_demo/stations_data_2023-12-18.csv\", \"/Users/luca/Downloads/weak_labels_demo/qaria_stazione.csv\")"
   ]
  },
  {
   "cell_type": "code",
   "execution_count": 226,
   "metadata": {},
   "outputs": [
    {
     "name": "stdout",
     "output_type": "stream",
     "text": [
      "{'9.18218994140625 45.432300567627': {'SO2': nan, 'C6H6': nan, 'NO2': 49.0, 'O3': nan, 'PM10': nan, 'PM25': nan, 'CO': nan}, '9.23478031158447 45.4740982055664': {'SO2': 9.0, 'C6H6': 2.3, 'NO2': 68.0, 'O3': 26.0, 'PM10': 41.0, 'PM25': 38.0, 'CO': nan}, '9.16944026947021 45.4441986083984': {'SO2': nan, 'C6H6': nan, 'NO2': 73.0, 'O3': nan, 'PM10': nan, 'PM25': nan, 'CO': 2.1}, '9.19083976745605 45.4962997436523': {'SO2': nan, 'C6H6': 1.1, 'NO2': 70.0, 'O3': nan, 'PM10': nan, 'PM25': nan, 'CO': 2.3}, '9.24730014801025 45.4995994567871': {'SO2': nan, 'C6H6': nan, 'NO2': nan, 'O3': 20.0, 'PM10': nan, 'PM25': nan, 'CO': nan}, '9.19791984558105 45.4705009460449': {'SO2': nan, 'C6H6': nan, 'NO2': 75.0, 'O3': nan, 'PM10': 38.0, 'PM25': 32.0, 'CO': 1.4}, '9.19534015655518 45.4635009765625': {'SO2': nan, 'C6H6': nan, 'NO2': 49.0, 'O3': 20.0, 'PM10': 33.0, 'PM25': nan, 'CO': nan}, '9.141770362854 45.4761009216309': {'SO2': nan, 'C6H6': 1.9, 'NO2': 75.0, 'O3': nan, 'PM10': nan, 'PM25': nan, 'CO': 1.9}}\n"
     ]
    }
   ],
   "source": [
    "print(data['2016-01-07'])"
   ]
  },
  {
   "cell_type": "code",
   "execution_count": 249,
   "metadata": {},
   "outputs": [
    {
     "data": {
      "text/plain": [
       "[7.013521220762758,\n",
       " 6.002515540487363,\n",
       " 0.0,\n",
       " 3.2376869330026183,\n",
       " 3.2376869330026183,\n",
       " 3.9456139626043534,\n",
       " 1.7956884291618183]"
      ]
     },
     "execution_count": 249,
     "metadata": {},
     "output_type": "execute_result"
    }
   ],
   "source": [
    "get_closest_dist_per_band(data, '2016-01-07', [9.18218994140625, 45.432300567627])"
   ]
  },
  {
   "cell_type": "code",
   "execution_count": 250,
   "metadata": {},
   "outputs": [
    {
     "data": {
      "text/plain": [
       "array([0.3, 0.3, 1. , 0.3, 0.3, 0.3, 0.3])"
      ]
     },
     "execution_count": 250,
     "metadata": {},
     "output_type": "execute_result"
    }
   ],
   "source": [
    "def get_loss_factor(date, latlon):\n",
    "    closest_dist_per_band = get_closest_dist_per_band(data, date, latlon)\n",
    "    loss_factors = np.ndarray(len(STATIONS_BANDS))\n",
    "    for i in range(len(closest_dist_per_band)):\n",
    "        if np.isclose( closest_dist_per_band[i] , 0 ):\n",
    "            loss_factors[i] = 1\n",
    "        else:\n",
    "            loss_factors[i] = 0.3\n",
    "\n",
    "    return loss_factors\n",
    "\n",
    "get_loss_factor('2016-01-07', [9.18218994140625, 45.432300567627])"
   ]
  }
 ],
 "metadata": {
  "kernelspec": {
   "display_name": "Python 3",
   "language": "python",
   "name": "python3"
  },
  "language_info": {
   "codemirror_mode": {
    "name": "ipython",
    "version": 3
   },
   "file_extension": ".py",
   "mimetype": "text/x-python",
   "name": "python",
   "nbconvert_exporter": "python",
   "pygments_lexer": "ipython3",
   "version": "3.9.6"
  }
 },
 "nbformat": 4,
 "nbformat_minor": 2
}
